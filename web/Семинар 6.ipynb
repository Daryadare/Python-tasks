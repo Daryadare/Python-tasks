{
 "cells": [
  {
   "cell_type": "markdown",
   "metadata": {},
   "source": [
    "# Семинар 6. Lambda-функции"
   ]
  },
  {
   "cell_type": "markdown",
   "metadata": {},
   "source": [
    "### Задача № 1\n",
    "Умножьте все элементы списка [12, 24, 36, 48, 109, 187]  на (номер вашего варианта + 7). Нужно перебрать все элементы при помощи цикла и умножить их.\n",
    "\n",
    "    А. Написать пользовательскую функцию для умножения числа и применить ее при помощи функции map() ко всему списку\n",
    "    В. Решить эту задачу используя lambda-функцию для умножения числа и применить ее при помощи функции map() ко всему списку. "
   ]
  },
  {
   "cell_type": "markdown",
   "metadata": {},
   "source": [
    "##### Примечание:\n",
    "    Python map() — это встроенная функция, которая позволяет обрабатывать и преобразовывать все элементы в итерируемом объекте без использования явного цикла for, методом, широко известным как сопоставление (mapping). map() полезен, когда вам нужно применить функцию преобразования к каждому элементу в коллекции или в массиве и преобразовать их в новый массив."
   ]
  },
  {
   "cell_type": "code",
   "execution_count": 1,
   "metadata": {},
   "outputs": [
    {
     "data": {
      "text/plain": [
       "[192, 384, 576, 768, 1744, 2992]"
      ]
     },
     "execution_count": 1,
     "metadata": {},
     "output_type": "execute_result"
    }
   ],
   "source": [
    "def multiply(el):\n",
    "    return el*16\n",
    "\n",
    "list(map(multiply, [12, 24, 36, 48, 109, 187]))"
   ]
  },
  {
   "cell_type": "code",
   "execution_count": 2,
   "metadata": {},
   "outputs": [
    {
     "data": {
      "text/plain": [
       "[192, 384, 576, 768, 1744, 2992]"
      ]
     },
     "execution_count": 2,
     "metadata": {},
     "output_type": "execute_result"
    }
   ],
   "source": [
    "multiply1 = lambda el:el*16\n",
    "\n",
    "list(map(multiply1, [12, 24, 36, 48, 109, 187]))"
   ]
  },
  {
   "cell_type": "markdown",
   "metadata": {},
   "source": [
    "### Задача № 2\n",
    "Составьте 2 списка чисел из своего и любого другого мобильного номера телефона. Нужно получить новый список, состоящий из элементов, равных произведению соответствующих элементов первоначальных списков. Решить эту задачу при помощи функции map() и lambda-функции."
   ]
  },
  {
   "cell_type": "code",
   "execution_count": 3,
   "metadata": {},
   "outputs": [
    {
     "data": {
      "text/plain": [
       "[64, 81, 0, 42, 4, 6, 6, 4, 35, 48, 0]"
      ]
     },
     "execution_count": 3,
     "metadata": {},
     "output_type": "execute_result"
    }
   ],
   "source": [
    "num1=[8,9,0,7,4,3,2,1,5,6,7]\n",
    "num2=[8,9,5,6,1,2,3,4,7,8,0]\n",
    "\n",
    "def new_num(el1,el2):\n",
    "    return el1*el2\n",
    "\n",
    "list(map(new_num, num1,num2))"
   ]
  },
  {
   "cell_type": "code",
   "execution_count": 4,
   "metadata": {},
   "outputs": [
    {
     "data": {
      "text/plain": [
       "[64, 81, 0, 42, 4, 6, 6, 4, 35, 48, 0]"
      ]
     },
     "execution_count": 4,
     "metadata": {},
     "output_type": "execute_result"
    }
   ],
   "source": [
    "new_num1 = lambda el1,el2:el1*el2\n",
    "list(map(new_num, num1,num2))"
   ]
  },
  {
   "cell_type": "markdown",
   "metadata": {},
   "source": [
    "### Задача № 3\n",
    "Создайте список цифр вашего номера телефона, каждая цифра должна быть умножена на ваш номер варианта. Нужно получить новые списки, состоящие из четных (первый список) и нечётных (второй список) элементов данного списка. Решить эту задачу при помощи функции filter() и lambda-функции."
   ]
  },
  {
   "cell_type": "markdown",
   "metadata": {},
   "source": [
    "##### Примечание:\n",
    "    Функция filter() используется для фильтрации элементов (отбор элементов, удовлетворяющих определенному правилу), принимает два аргумента: функцию и итерируемую последовательность, которую нужно отфильтровать. Важным моментом является то, что функция, передаваемая в качестве аргумента, должна возвращать True или False. "
   ]
  },
  {
   "cell_type": "code",
   "execution_count": 5,
   "metadata": {},
   "outputs": [
    {
     "data": {
      "text/plain": [
       "[128, 144, 0, 112, 64, 48, 32, 16, 80, 96, 112]"
      ]
     },
     "execution_count": 5,
     "metadata": {},
     "output_type": "execute_result"
    }
   ],
   "source": [
    "def multiply_num(el):\n",
    "    return el*16\n",
    "\n",
    "mnum = list(map(multiply_num, num1))\n",
    "mnum"
   ]
  },
  {
   "cell_type": "code",
   "execution_count": 6,
   "metadata": {},
   "outputs": [
    {
     "data": {
      "text/plain": [
       "([128, 144, 0, 112, 64, 48, 32, 16, 80, 96, 112], [])"
      ]
     },
     "execution_count": 6,
     "metadata": {},
     "output_type": "execute_result"
    }
   ],
   "source": [
    "def new_list(mnum):\n",
    "    list_even = list(filter(lambda x: x%2==0, mnum))\n",
    "    list_odd = list(filter(lambda x: x%2==1, mnum))\n",
    "    return list_even,list_odd\n",
    "    \n",
    "new_list(mnum)"
   ]
  },
  {
   "cell_type": "markdown",
   "metadata": {},
   "source": [
    "### Задача № 4\n",
    "Создайте список чисел вашего номера телефона, каждая цифра должна быть поделена на ваш номер варианта. Все числа заданы в строковом типе данных.\n",
    "\n",
    "    а) применить целочисленное деление\n",
    "    в) применить дробное деление\n",
    "    \n",
    " Нужно получить точно такой же список, но все числа в нем должны храниться уже в числовом формате. Решить эту задачу используя lambda-функцию"
   ]
  },
  {
   "cell_type": "code",
   "execution_count": 7,
   "metadata": {},
   "outputs": [
    {
     "data": {
      "text/plain": [
       "([0, 1, 0, 0, 0, 0, 0, 0, 0, 0, 0],\n",
       " [0.8888888888888888,\n",
       "  1.0,\n",
       "  0.0,\n",
       "  0.7777777777777778,\n",
       "  0.4444444444444444,\n",
       "  0.3333333333333333,\n",
       "  0.2222222222222222,\n",
       "  0.1111111111111111,\n",
       "  0.5555555555555556,\n",
       "  0.6666666666666666,\n",
       "  0.7777777777777778])"
      ]
     },
     "execution_count": 7,
     "metadata": {},
     "output_type": "execute_result"
    }
   ],
   "source": [
    "number=['8','9','0','7','4','3','2','1','5','6','7']\n",
    "def smth(llist):\n",
    "    number1 = list(map(lambda el:int(el)//9,number))\n",
    "    number2 = list(map(lambda el:int(el)/9,number))\n",
    "    return number1,number2\n",
    "\n",
    "smth(number)"
   ]
  }
 ],
 "metadata": {
  "kernelspec": {
   "display_name": "Python 3 (ipykernel)",
   "language": "python",
   "name": "python3"
  },
  "language_info": {
   "codemirror_mode": {
    "name": "ipython",
    "version": 3
   },
   "file_extension": ".py",
   "mimetype": "text/x-python",
   "name": "python",
   "nbconvert_exporter": "python",
   "pygments_lexer": "ipython3",
   "version": "3.9.7"
  }
 },
 "nbformat": 4,
 "nbformat_minor": 4
}
