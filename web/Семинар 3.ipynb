{
 "cells": [
  {
   "cell_type": "markdown",
   "metadata": {},
   "source": [
    "## Семинар 3"
   ]
  },
  {
   "cell_type": "markdown",
   "metadata": {},
   "source": [
    "### Задача 1\n",
    "\n",
    "Напишите программу, которая просит пользователя ввести положительное число, и если пользователь вводит положительное число, выводит на экран сообщение \"Молодец!\", если нет ‒ \"Это не положительное число.\".\n",
    "\n",
    "Считайте, что пользователь в любом случае вводит числа, а не какой-то текст."
   ]
  },
  {
   "cell_type": "code",
   "execution_count": 1,
   "metadata": {},
   "outputs": [
    {
     "name": "stdout",
     "output_type": "stream",
     "text": [
      "Введите число: 5\n",
      "Молодец!\n"
     ]
    }
   ],
   "source": [
    "num = int(input('Введите число: '))\n",
    "if num>0:\n",
    "    print('Молодец!')\n",
    "else: print('Это не положительное число.')"
   ]
  },
  {
   "cell_type": "code",
   "execution_count": 2,
   "metadata": {},
   "outputs": [
    {
     "name": "stdout",
     "output_type": "stream",
     "text": [
      "Введите число: -2\n",
      "Это не положительное число.\n"
     ]
    }
   ],
   "source": [
    "num = int(input('Введите число: '))\n",
    "if num>0:\n",
    "    print('Молодец!')\n",
    "else: print('Это не положительное число.')"
   ]
  },
  {
   "cell_type": "markdown",
   "metadata": {},
   "source": [
    "### Задача 2\n",
    "\n",
    "Напишите программу, которая принимает на вход список оценок студентов от 1 до 10, выводит на экран оценку, а после нее, с новой строки, комментарий \"Плохо\", \"Удовлетворительно\", \"Хорошо\", \"Отлично\" в зависимости от оценки."
   ]
  },
  {
   "cell_type": "code",
   "execution_count": 4,
   "metadata": {},
   "outputs": [
    {
     "name": "stdout",
     "output_type": "stream",
     "text": [
      "Введите список оценок: 2 3 4 3 5 2\n",
      "2 \n",
      " Плохо\n",
      "\n",
      "3 \n",
      " Удовлетворительно\n",
      "\n",
      "4 \n",
      " Хорошо\n",
      "\n",
      "3 \n",
      " Удовлетворительно\n",
      "\n",
      "5 \n",
      " Отлично\n",
      "\n",
      "2 \n",
      " Плохо\n",
      "\n"
     ]
    }
   ],
   "source": [
    "nums = list(map(int, input('Введите список оценок: ').split()))\n",
    "for val in nums:\n",
    "    if val==2:\n",
    "        print(val,'\\n Плохо\\n')\n",
    "    elif val==3:\n",
    "        print(val,'\\n Удовлетворительно\\n')\n",
    "    elif val==4:\n",
    "        print(val,'\\n Хорошо\\n')\n",
    "    elif val==5:\n",
    "        print(val,'\\n Отлично\\n')"
   ]
  },
  {
   "cell_type": "markdown",
   "metadata": {},
   "source": [
    "### Задача 3\n",
    "\n",
    "Напишите программу, которая запрашивает у пользователя пароль, и далее:\n",
    "\n",
    "- если пароль верный, выводит на экран сообщение \"Login success\".\n",
    "- если пароль неверный, выводит на экран сообщение \"Incorrect password, try again!\" до тех пор, пока пользователь не введет верный пароль."
   ]
  },
  {
   "cell_type": "code",
   "execution_count": 5,
   "metadata": {},
   "outputs": [
    {
     "name": "stdout",
     "output_type": "stream",
     "text": [
      "Введите пароль: asdfg\n",
      "Incorrect password, try again!\n",
      "Введите пароль: qwerty123\n",
      "Login success\n"
     ]
    }
   ],
   "source": [
    "password = 'qwerty123'\n",
    "try_pass = str(input('Введите пароль: '))\n",
    "while password!=try_pass:\n",
    "    print('Incorrect password, try again!')\n",
    "    try_pass = str(input('Введите пароль: '))\n",
    "print('Login success')"
   ]
  },
  {
   "cell_type": "markdown",
   "metadata": {},
   "source": [
    "### Задача 4\n",
    "\n",
    "У питона есть набор любимых чисел.\n",
    "\n",
    "    favorites = [3, 7, 11, 23, 18, 48, 81]\n",
    "\n",
    "Напишите программу, которая просит пользователя ввести целое число, и если оно нравится питону, на экран будет выводиться сообщение: \"Мое любимое число!\", если нет ‒ \"Эх, ну почему?\"."
   ]
  },
  {
   "cell_type": "code",
   "execution_count": 6,
   "metadata": {},
   "outputs": [
    {
     "name": "stdout",
     "output_type": "stream",
     "text": [
      "Введите целое число: 55\n",
      "Эх, ну почему?\n"
     ]
    }
   ],
   "source": [
    "favorites = [3, 7, 11, 23, 18, 48, 81]\n",
    "num  = int(input('Введите целое число: '))\n",
    "if num in favorites: print('Мое любимое число!')\n",
    "else: print('Эх, ну почему?')"
   ]
  },
  {
   "cell_type": "code",
   "execution_count": 7,
   "metadata": {},
   "outputs": [
    {
     "name": "stdout",
     "output_type": "stream",
     "text": [
      "Введите целое число: 7\n",
      "Мое любимое число!\n"
     ]
    }
   ],
   "source": [
    "favorites = [3, 7, 11, 23, 18, 48, 81]\n",
    "num  = int(input('Введите целое число: '))\n",
    "if num in favorites: print('Мое любимое число!')\n",
    "else: print('Эх, ну почему?')"
   ]
  },
  {
   "cell_type": "markdown",
   "metadata": {},
   "source": [
    "### Задача 5\n",
    "\n",
    "Напишите программу, которая просит пользователя ввести число и, если оно чётное, выводит на экран сообщение: \"Это число чётное\", если нечётное ‒ \"Это число нечётное\"."
   ]
  },
  {
   "cell_type": "code",
   "execution_count": 10,
   "metadata": {},
   "outputs": [
    {
     "name": "stdout",
     "output_type": "stream",
     "text": [
      "Введите число: 22\n",
      "Это число чётное\n"
     ]
    }
   ],
   "source": [
    "num  = int(input('Введите число: '))\n",
    "if num%2==0: print('Это число чётное')\n",
    "else: print('Это число нечётное')"
   ]
  },
  {
   "cell_type": "code",
   "execution_count": 11,
   "metadata": {},
   "outputs": [
    {
     "name": "stdout",
     "output_type": "stream",
     "text": [
      "Введите число: 11\n",
      "Это число нечётное\n"
     ]
    }
   ],
   "source": [
    "num  = int(input('Введите число: '))\n",
    "if num%2==0: print('Это число чётное')\n",
    "else: print('Это число нечётное')"
   ]
  },
  {
   "cell_type": "markdown",
   "metadata": {},
   "source": [
    "### Задача 6\n",
    "\n",
    "Напишите программу, которая просит пользователя ввести существительное, и если слово введено с большой буквы, то на экран выводится сообщение \"Это имя собственное.\", если с маленькой ‒ сообщение \"Это имя нарицательное\"."
   ]
  },
  {
   "cell_type": "code",
   "execution_count": 12,
   "metadata": {},
   "outputs": [
    {
     "name": "stdout",
     "output_type": "stream",
     "text": [
      "Введите существительное: Darya\n",
      "Это имя собственное.\n"
     ]
    }
   ],
   "source": [
    "str1 = str(input('Введите существительное: '))\n",
    "if str1.istitle(): print('Это имя собственное.')\n",
    "else: print('Это имя нарицательное')"
   ]
  },
  {
   "cell_type": "code",
   "execution_count": 13,
   "metadata": {},
   "outputs": [
    {
     "name": "stdout",
     "output_type": "stream",
     "text": [
      "Введите существительное: hello\n",
      "Это имя нарицательное\n"
     ]
    }
   ],
   "source": [
    "str1 = str(input('Введите существительное: '))\n",
    "if str1.istitle(): print('Это имя собственное.')\n",
    "else: print('Это имя нарицательное')"
   ]
  }
 ],
 "metadata": {
  "kernelspec": {
   "display_name": "Python 3 (ipykernel)",
   "language": "python",
   "name": "python3"
  },
  "language_info": {
   "codemirror_mode": {
    "name": "ipython",
    "version": 3
   },
   "file_extension": ".py",
   "mimetype": "text/x-python",
   "name": "python",
   "nbconvert_exporter": "python",
   "pygments_lexer": "ipython3",
   "version": "3.9.7"
  }
 },
 "nbformat": 4,
 "nbformat_minor": 2
}
